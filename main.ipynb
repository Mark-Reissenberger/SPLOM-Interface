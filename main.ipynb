{
 "cells": [
  {
   "cell_type": "code",
   "execution_count": 106,
   "id": "initial_id",
   "metadata": {
    "collapsed": true,
    "ExecuteTime": {
     "end_time": "2024-10-10T10:28:20.609133Z",
     "start_time": "2024-10-10T10:28:20.602725Z"
    }
   },
   "outputs": [],
   "source": [
    "import numpy as np\n",
    "import pandas as pd\n",
    "from sklearn.cluster import MeanShift, estimate_bandwidth\n",
    "from sklearn.datasets import load_iris\n",
    "from bokeh.layouts import gridplot\n",
    "from bokeh.models import ColumnDataSource\n",
    "from bokeh.plotting import figure, show\n",
    "from bokeh.transform import factor_cmap\n",
    "from itertools import product\n",
    "from bokeh.themes import Theme\n",
    "from bokeh.io import curdoc\n",
    "from bokeh.io import show\n",
    "from bokeh.layouts import gridplot\n",
    "from bokeh.models import (BasicTicker, ColumnDataSource, DataRange1d,\n",
    "                          Grid, LassoSelectTool, LinearAxis, PanTool,\n",
    "                          Plot, ResetTool, Scatter, WheelZoomTool)"
   ]
  },
  {
   "cell_type": "code",
   "outputs": [],
   "source": [
    "iris_bunch = load_iris()\n",
    "df = pd.DataFrame(iris_bunch.data, columns=iris_bunch.feature_names)\n",
    "df['species'] = iris_bunch.target"
   ],
   "metadata": {
    "collapsed": false,
    "ExecuteTime": {
     "end_time": "2024-10-10T10:28:20.613768Z",
     "start_time": "2024-10-10T10:28:20.606249Z"
    }
   },
   "id": "99daa597048260f9",
   "execution_count": 107
  },
  {
   "cell_type": "code",
   "outputs": [],
   "source": [
    "X = df[df.columns[:-1]]  \n",
    "bandwidth = estimate_bandwidth(X, quantile=0.2) \n",
    "mean_shift = MeanShift(bandwidth=bandwidth, bin_seeding=True)\n",
    "df['cluster'] = mean_shift.fit_predict(X)\n",
    "\n",
    "df['cluster'] = df['cluster'].astype(str)"
   ],
   "metadata": {
    "collapsed": false,
    "ExecuteTime": {
     "end_time": "2024-10-10T10:28:20.671672Z",
     "start_time": "2024-10-10T10:28:20.616389Z"
    }
   },
   "id": "c3ede2d2e1aa8e68",
   "execution_count": 108
  },
  {
   "cell_type": "code",
   "outputs": [],
   "source": [
    "dataset_source = ColumnDataSource(df)\n",
    "numeric_columns = df.columns[:-2]  # Excludes the last 'species' and 'cluster' column"
   ],
   "metadata": {
    "collapsed": false,
    "ExecuteTime": {
     "end_time": "2024-10-10T10:28:20.676556Z",
     "start_time": "2024-10-10T10:28:20.674586Z"
    }
   },
   "id": "5f53d67df334ca58",
   "execution_count": 109
  },
  {
   "cell_type": "code",
   "outputs": [],
   "source": [
    "clusters = df['cluster'].unique().astype(str)\n",
    "colors = ['#1f77b4', '#ff7f0e', '#2ca02c']  \n",
    "\n",
    "\n",
    "curdoc().theme = 'light_minimal'"
   ],
   "metadata": {
    "collapsed": false,
    "ExecuteTime": {
     "end_time": "2024-10-10T10:28:20.680120Z",
     "start_time": "2024-10-10T10:28:20.677640Z"
    }
   },
   "id": "adddd1661ac084cb",
   "execution_count": 110
  },
  {
   "cell_type": "code",
   "outputs": [
    {
     "name": "stderr",
     "output_type": "stream",
     "text": [
      "BokehDeprecationWarning: 'circle() method with size value' was deprecated in Bokeh 3.4.0 and will be removed, use 'scatter(size=...) instead' instead.\n",
      "BokehDeprecationWarning: 'circle() method with size value' was deprecated in Bokeh 3.4.0 and will be removed, use 'scatter(size=...) instead' instead.\n",
      "BokehDeprecationWarning: 'circle() method with size value' was deprecated in Bokeh 3.4.0 and will be removed, use 'scatter(size=...) instead' instead.\n",
      "BokehDeprecationWarning: 'circle() method with size value' was deprecated in Bokeh 3.4.0 and will be removed, use 'scatter(size=...) instead' instead.\n",
      "BokehDeprecationWarning: 'circle() method with size value' was deprecated in Bokeh 3.4.0 and will be removed, use 'scatter(size=...) instead' instead.\n",
      "BokehDeprecationWarning: 'circle() method with size value' was deprecated in Bokeh 3.4.0 and will be removed, use 'scatter(size=...) instead' instead.\n",
      "BokehDeprecationWarning: 'circle() method with size value' was deprecated in Bokeh 3.4.0 and will be removed, use 'scatter(size=...) instead' instead.\n",
      "BokehDeprecationWarning: 'circle() method with size value' was deprecated in Bokeh 3.4.0 and will be removed, use 'scatter(size=...) instead' instead.\n",
      "BokehDeprecationWarning: 'circle() method with size value' was deprecated in Bokeh 3.4.0 and will be removed, use 'scatter(size=...) instead' instead.\n",
      "BokehDeprecationWarning: 'circle() method with size value' was deprecated in Bokeh 3.4.0 and will be removed, use 'scatter(size=...) instead' instead.\n",
      "BokehDeprecationWarning: 'circle() method with size value' was deprecated in Bokeh 3.4.0 and will be removed, use 'scatter(size=...) instead' instead.\n",
      "BokehDeprecationWarning: 'circle() method with size value' was deprecated in Bokeh 3.4.0 and will be removed, use 'scatter(size=...) instead' instead.\n",
      "BokehDeprecationWarning: 'circle() method with size value' was deprecated in Bokeh 3.4.0 and will be removed, use 'scatter(size=...) instead' instead.\n",
      "BokehDeprecationWarning: 'circle() method with size value' was deprecated in Bokeh 3.4.0 and will be removed, use 'scatter(size=...) instead' instead.\n",
      "BokehDeprecationWarning: 'circle() method with size value' was deprecated in Bokeh 3.4.0 and will be removed, use 'scatter(size=...) instead' instead.\n",
      "BokehDeprecationWarning: 'circle() method with size value' was deprecated in Bokeh 3.4.0 and will be removed, use 'scatter(size=...) instead' instead.\n"
     ]
    }
   ],
   "source": [
    "x_ranges = {col: None for col in numeric_columns}\n",
    "y_ranges = {col: None for col in numeric_columns}\n",
    "\n",
    "scatter_plots = []\n",
    "plot_size = 250\n",
    "y_max = len(numeric_columns)-1\n",
    "for i, y_col in enumerate(numeric_columns):\n",
    "    for j, x_col in enumerate(numeric_columns):\n",
    "        # Create figure and link axis ranges\n",
    "        p = figure(width=plot_size, height=plot_size, x_axis_label=x_col, y_axis_label=y_col,\n",
    "                   tools=\"pan,wheel_zoom,box_select,lasso_select,reset\")\n",
    "\n",
    "        # Link x and y ranges\n",
    "        if x_ranges[x_col] is None:\n",
    "            x_ranges[x_col] = p.x_range\n",
    "        else:\n",
    "            p.x_range = x_ranges[x_col]\n",
    "\n",
    "        if y_ranges[y_col] is None:\n",
    "            y_ranges[y_col] = p.y_range\n",
    "        else:\n",
    "            p.y_range = y_ranges[y_col]\n",
    "\n",
    "        # Add circles, color by cluster\n",
    "        p.circle(source=dataset_source, x=x_col, y=y_col, fill_alpha=0.6, size=6,\n",
    "                 fill_color=factor_cmap('cluster', palette=colors, factors=clusters),\n",
    "                 line_color=factor_cmap('cluster', palette=colors, factors=clusters),\n",
    "                 selection_color=\"red\", \n",
    "                 nonselection_fill_alpha=0.1,  \n",
    "                 nonselection_line_alpha=0.1)  \n",
    "        \n",
    "        if j > 0:\n",
    "            p.yaxis.axis_label = \"\"\n",
    "            p.yaxis.visible = False\n",
    "        \n",
    "        if i < y_max:\n",
    "            p.xaxis.axis_label = \"\"\n",
    "            p.xaxis.visible = False\n",
    "\n",
    "        scatter_plots.append(p)\n",
    "\n",
    "grid = gridplot(scatter_plots, ncols = len(numeric_columns))\n",
    "show(grid)"
   ],
   "metadata": {
    "collapsed": false,
    "ExecuteTime": {
     "end_time": "2024-10-10T10:28:21.273985Z",
     "start_time": "2024-10-10T10:28:20.712648Z"
    }
   },
   "id": "9e0d17421b3fdfa1",
   "execution_count": 111
  },
  {
   "cell_type": "code",
   "outputs": [],
   "source": [],
   "metadata": {
    "collapsed": false,
    "ExecuteTime": {
     "end_time": "2024-10-10T10:28:21.274856Z",
     "start_time": "2024-10-10T10:28:21.257683Z"
    }
   },
   "id": "4b503088a6d9380e",
   "execution_count": 111
  }
 ],
 "metadata": {
  "kernelspec": {
   "display_name": "Python 3",
   "language": "python",
   "name": "python3"
  },
  "language_info": {
   "codemirror_mode": {
    "name": "ipython",
    "version": 2
   },
   "file_extension": ".py",
   "mimetype": "text/x-python",
   "name": "python",
   "nbconvert_exporter": "python",
   "pygments_lexer": "ipython2",
   "version": "2.7.6"
  }
 },
 "nbformat": 4,
 "nbformat_minor": 5
}
