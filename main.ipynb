{
 "cells": [
  {
   "cell_type": "code",
   "execution_count": 122,
   "id": "initial_id",
   "metadata": {
    "collapsed": true,
    "ExecuteTime": {
     "end_time": "2024-10-12T12:16:53.476668Z",
     "start_time": "2024-10-12T12:16:53.471718Z"
    }
   },
   "outputs": [],
   "source": [
    "import pandas as pd\n",
    "from sklearn.cluster import MeanShift, estimate_bandwidth\n",
    "from sklearn.datasets import load_iris\n",
    "from bokeh.plotting import figure\n",
    "from bokeh.transform import factor_cmap\n",
    "from bokeh.io import curdoc\n",
    "from bokeh.io import show\n",
    "from bokeh.layouts import gridplot, column, row\n",
    "from bokeh.models import (Slider, ColumnDataSource, Select,)"
   ]
  },
  {
   "cell_type": "markdown",
   "source": [
    "## Prototype in this file, will be modularized in other files/classes"
   ],
   "metadata": {
    "collapsed": false
   },
   "id": "1235bd8eb3f40545"
  },
  {
   "cell_type": "markdown",
   "source": [
    "## Data"
   ],
   "metadata": {
    "collapsed": false
   },
   "id": "6ce908d6b3b02a35"
  },
  {
   "cell_type": "code",
   "outputs": [],
   "source": [
    "iris_bunch = load_iris()\n",
    "df = pd.DataFrame(iris_bunch.data, columns=iris_bunch.feature_names)\n",
    "df['species'] = iris_bunch.target"
   ],
   "metadata": {
    "collapsed": false,
    "ExecuteTime": {
     "end_time": "2024-10-12T12:16:53.509192Z",
     "start_time": "2024-10-12T12:16:53.475025Z"
    }
   },
   "id": "99daa597048260f9",
   "execution_count": 123
  },
  {
   "cell_type": "code",
   "outputs": [
    {
     "data": {
      "text/plain": "   sepal length (cm)  sepal width (cm)  petal length (cm)  petal width (cm)  \\\n0                5.1               3.5                1.4               0.2   \n1                4.9               3.0                1.4               0.2   \n2                4.7               3.2                1.3               0.2   \n3                4.6               3.1                1.5               0.2   \n4                5.0               3.6                1.4               0.2   \n\n   species cluster  \n0        0       1  \n1        0       1  \n2        0       1  \n3        0       1  \n4        0       1  ",
      "text/html": "<div>\n<style scoped>\n    .dataframe tbody tr th:only-of-type {\n        vertical-align: middle;\n    }\n\n    .dataframe tbody tr th {\n        vertical-align: top;\n    }\n\n    .dataframe thead th {\n        text-align: right;\n    }\n</style>\n<table border=\"1\" class=\"dataframe\">\n  <thead>\n    <tr style=\"text-align: right;\">\n      <th></th>\n      <th>sepal length (cm)</th>\n      <th>sepal width (cm)</th>\n      <th>petal length (cm)</th>\n      <th>petal width (cm)</th>\n      <th>species</th>\n      <th>cluster</th>\n    </tr>\n  </thead>\n  <tbody>\n    <tr>\n      <th>0</th>\n      <td>5.1</td>\n      <td>3.5</td>\n      <td>1.4</td>\n      <td>0.2</td>\n      <td>0</td>\n      <td>1</td>\n    </tr>\n    <tr>\n      <th>1</th>\n      <td>4.9</td>\n      <td>3.0</td>\n      <td>1.4</td>\n      <td>0.2</td>\n      <td>0</td>\n      <td>1</td>\n    </tr>\n    <tr>\n      <th>2</th>\n      <td>4.7</td>\n      <td>3.2</td>\n      <td>1.3</td>\n      <td>0.2</td>\n      <td>0</td>\n      <td>1</td>\n    </tr>\n    <tr>\n      <th>3</th>\n      <td>4.6</td>\n      <td>3.1</td>\n      <td>1.5</td>\n      <td>0.2</td>\n      <td>0</td>\n      <td>1</td>\n    </tr>\n    <tr>\n      <th>4</th>\n      <td>5.0</td>\n      <td>3.6</td>\n      <td>1.4</td>\n      <td>0.2</td>\n      <td>0</td>\n      <td>1</td>\n    </tr>\n  </tbody>\n</table>\n</div>"
     },
     "execution_count": 132,
     "metadata": {},
     "output_type": "execute_result"
    }
   ],
   "source": [
    "df.head()"
   ],
   "metadata": {
    "collapsed": false,
    "ExecuteTime": {
     "end_time": "2024-10-12T13:34:30.828213Z",
     "start_time": "2024-10-12T13:34:30.790204Z"
    }
   },
   "id": "83713412d75be21e",
   "execution_count": 132
  },
  {
   "cell_type": "code",
   "outputs": [],
   "source": [
    "X = df[df.columns[:-1]]  \n",
    "bandwidth = estimate_bandwidth(X, quantile=0.2) \n",
    "mean_shift = MeanShift(bandwidth=bandwidth, bin_seeding=True)\n",
    "df['cluster'] = mean_shift.fit_predict(X)\n",
    "\n",
    "df['cluster'] = df['cluster'].astype(str)"
   ],
   "metadata": {
    "collapsed": false,
    "ExecuteTime": {
     "end_time": "2024-10-12T12:16:53.611277Z",
     "start_time": "2024-10-12T12:16:53.538615Z"
    }
   },
   "id": "c3ede2d2e1aa8e68",
   "execution_count": 124
  },
  {
   "cell_type": "code",
   "outputs": [],
   "source": [
    "dataset_source = ColumnDataSource(df)\n",
    "numeric_columns = df.columns[:-2]  # Excludes the last 'species' and 'cluster' column\n",
    "clusters = df['cluster'].unique().astype(str)"
   ],
   "metadata": {
    "collapsed": false,
    "ExecuteTime": {
     "end_time": "2024-10-12T12:16:53.619964Z",
     "start_time": "2024-10-12T12:16:53.616890Z"
    }
   },
   "id": "5f53d67df334ca58",
   "execution_count": 125
  },
  {
   "cell_type": "markdown",
   "source": [
    "## Frontend"
   ],
   "metadata": {
    "collapsed": false
   },
   "id": "b071b5a2842c910f"
  },
  {
   "cell_type": "code",
   "outputs": [],
   "source": [
    "colors = ['#1f77b4', '#ff7f0e', '#2ca02c']\n",
    "curdoc().theme = 'light_minimal'"
   ],
   "metadata": {
    "collapsed": false,
    "ExecuteTime": {
     "end_time": "2024-10-12T12:16:53.623367Z",
     "start_time": "2024-10-12T12:16:53.620753Z"
    }
   },
   "id": "adddd1661ac084cb",
   "execution_count": 126
  },
  {
   "cell_type": "code",
   "outputs": [],
   "source": [
    "def create_splom(source):\n",
    "\n",
    "    x_ranges = {col: None for col in numeric_columns}\n",
    "    y_ranges = {col: None for col in numeric_columns}\n",
    "    \n",
    "    scatter_plots = []\n",
    "    plot_size = 250\n",
    "    y_max = len(numeric_columns)-1\n",
    "    for i, y_col in enumerate(numeric_columns):\n",
    "        for j, x_col in enumerate(numeric_columns):\n",
    "            # Create figure and link axis ranges\n",
    "            p = figure(width=plot_size, height=plot_size, x_axis_label=x_col, y_axis_label=y_col,\n",
    "                       tools=\"pan,wheel_zoom,box_select,lasso_select,reset\")\n",
    "    \n",
    "            # Link x and y ranges\n",
    "            if x_ranges[x_col] is None:\n",
    "                x_ranges[x_col] = p.x_range\n",
    "            else:\n",
    "                p.x_range = x_ranges[x_col]\n",
    "    \n",
    "            if y_ranges[y_col] is None:\n",
    "                y_ranges[y_col] = p.y_range\n",
    "            else:\n",
    "                p.y_range = y_ranges[y_col]\n",
    "    \n",
    "            # Add circles, color by cluster\n",
    "            p.scatter(source=source, x=x_col, y=y_col, fill_alpha=0.6, size=6,\n",
    "                     fill_color=factor_cmap('cluster', palette=colors, factors=clusters),\n",
    "                     line_color=factor_cmap('cluster', palette=colors, factors=clusters),\n",
    "                     selection_color=\"red\", \n",
    "                     nonselection_fill_alpha=0.1,  \n",
    "                     nonselection_line_alpha=0.1)  \n",
    "            \n",
    "            if j > 0:\n",
    "                p.yaxis.axis_label = \"\"\n",
    "                p.yaxis.visible = False\n",
    "            \n",
    "            if i < y_max:\n",
    "                p.xaxis.axis_label = \"\"\n",
    "                p.xaxis.visible = False\n",
    "    \n",
    "            scatter_plots.append(p)\n",
    "    \n",
    "    grid = gridplot(scatter_plots, ncols = len(numeric_columns))\n",
    "    return grid"
   ],
   "metadata": {
    "collapsed": false,
    "ExecuteTime": {
     "end_time": "2024-10-12T12:16:53.632999Z",
     "start_time": "2024-10-12T12:16:53.629044Z"
    }
   },
   "id": "9e0d17421b3fdfa1",
   "execution_count": 127
  },
  {
   "cell_type": "code",
   "outputs": [],
   "source": [
    "scatterplot_matrix = create_splom(dataset_source)\n",
    "\n",
    "#Widgets for bandwith selection\n",
    "select = Select(title=\"Bandwidth Option\", value=\"Estimate\", options=[\"Estimate\", \"Custom\"])\n",
    "slider = Slider(start=0.1, end=2.0, value=1.0, step=0.1, title=\"Custom Bandwidth\", visible=False)"
   ],
   "metadata": {
    "collapsed": false,
    "ExecuteTime": {
     "end_time": "2024-10-12T12:16:53.781858Z",
     "start_time": "2024-10-12T12:16:53.685758Z"
    }
   },
   "id": "4b503088a6d9380e",
   "execution_count": 128
  },
  {
   "cell_type": "code",
   "outputs": [],
   "source": [
    "def update_clusters(attr, old, new):\n",
    "    bandwidth_option = select.value\n",
    "    if bandwidth_option == \"Estimate\":\n",
    "        bandwidth = estimate_bandwidth(df[numeric_columns], quantile=0.2)\n",
    "    else:\n",
    "        bandwidth = slider.value\n",
    "    \n",
    "    # Perform clustering\n",
    "    mean_shift = MeanShift(bandwidth=bandwidth, bin_seeding=True)\n",
    "    df['cluster'] = mean_shift.fit_predict(df[numeric_columns]).astype(str)  # Convert to string for factor_cmap\n",
    "\n",
    "    # Update ColumnDataSource\n",
    "    dataset_source.data = dict(ColumnDataSource(df).data)\n",
    "    \n",
    "    # Re-create scatterplot matrix with updated clusters\n",
    "    layout.children[1] = create_splom(dataset_source)"
   ],
   "metadata": {
    "collapsed": false,
    "ExecuteTime": {
     "end_time": "2024-10-12T12:16:53.785077Z",
     "start_time": "2024-10-12T12:16:53.783719Z"
    }
   },
   "id": "a47318a9bc55073e",
   "execution_count": 129
  },
  {
   "cell_type": "code",
   "outputs": [],
   "source": [
    "def select_bandwidth(attr, old, new):\n",
    "    if select.value == \"Custom\":\n",
    "        slider.visible = True\n",
    "    else:\n",
    "        slider.visible = False\n",
    "    update_clusters(attr, old, new)"
   ],
   "metadata": {
    "collapsed": false,
    "ExecuteTime": {
     "end_time": "2024-10-12T12:16:53.788053Z",
     "start_time": "2024-10-12T12:16:53.785993Z"
    }
   },
   "id": "bc262c24ec79b963",
   "execution_count": 130
  },
  {
   "cell_type": "code",
   "outputs": [],
   "source": [
    "select.on_change('value', select_bandwidth)\n",
    "slider.on_change('value', update_clusters)\n",
    "\n",
    "layout = column(select, slider, scatterplot_matrix)\n",
    "\n",
    "curdoc().add_root(layout)"
   ],
   "metadata": {
    "collapsed": false,
    "ExecuteTime": {
     "end_time": "2024-10-12T12:16:53.840857Z",
     "start_time": "2024-10-12T12:16:53.807884Z"
    }
   },
   "id": "77aec6f235349bfc",
   "execution_count": 131
  }
 ],
 "metadata": {
  "kernelspec": {
   "display_name": "Python 3",
   "language": "python",
   "name": "python3"
  },
  "language_info": {
   "codemirror_mode": {
    "name": "ipython",
    "version": 2
   },
   "file_extension": ".py",
   "mimetype": "text/x-python",
   "name": "python",
   "nbconvert_exporter": "python",
   "pygments_lexer": "ipython2",
   "version": "2.7.6"
  }
 },
 "nbformat": 4,
 "nbformat_minor": 5
}
